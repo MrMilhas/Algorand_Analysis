{
 "cells": [
  {
   "cell_type": "markdown",
   "metadata": {},
   "source": [
    "# Processamento dos Dados"
   ]
  },
  {
   "cell_type": "markdown",
   "metadata": {},
   "source": [
    "### Importando Bibliotecas:"
   ]
  },
  {
   "cell_type": "code",
   "execution_count": 1,
   "metadata": {},
   "outputs": [],
   "source": [
    "from lib2to3.pytree import convert\n",
    "from datetime import datetime\n",
    "from ast import literal_eval\n",
    "from pathlib import Path\n",
    "from tqdm import tqdm\n",
    "from ctypes import *\n",
    "import pandas as pd\n",
    "import numpy as np\n",
    "import struct\n",
    "import json\n",
    "import time\n",
    "import math"
   ]
  },
  {
   "cell_type": "markdown",
   "metadata": {},
   "source": [
    "--------------------------------------------------------------------------------------"
   ]
  },
  {
   "cell_type": "markdown",
   "metadata": {},
   "source": [
    "### Importação dos Datasets:"
   ]
  },
  {
   "cell_type": "markdown",
   "metadata": {},
   "source": [
    "    - Transações:"
   ]
  },
  {
   "cell_type": "code",
   "execution_count": null,
   "metadata": {},
   "outputs": [],
   "source": [
    "tx_1 = pd.read_csv('../data/transactions/algo_transactions_1.csv')\n",
    "tx_1 = pd.DataFrame(tx_1)\n",
    "\n",
    "#tx_2 = pd.read_csv('../data/transactions/algo_transactions_2.csv')\n",
    "#tx_2 = pd.DataFrame(tx_2)\n",
    "\n",
    "#tx_3 = pd.read_csv('../data/transactions/algo_transactions_3.csv')\n",
    "#tx_3 = pd.DataFrame(tx_3)\n",
    "\n",
    "#tx_4 = pd.read_csv('../data/transactions/algo_transactions_4.csv')\n",
    "#tx_4 = pd.DataFrame(tx_4)\n",
    "\n",
    "#tx_5 = pd.read_csv('../data/transactions/algo_transactions_5.csv')\n",
    "#tx_5 = pd.DataFrame(tx_5)\n",
    "\n",
    "#tx_6 = pd.read_csv('../data/transactions/algo_transactions_6.csv')\n",
    "#tx_6 = pd.DataFrame(tx_6)\n",
    "\n",
    "#tx_7 = pd.read_csv('../data/transactions/algo_transactions_7.csv')\n",
    "#tx_7 = pd.DataFrame(tx_7)\n",
    "\n",
    "#tx_8 = pd.read_csv('../data/transactions/algo_transactions_8.csv')\n",
    "#tx_8 = pd.DataFrame(tx_8)\n",
    "\n",
    "#df_tx = pd.concat([tx_1, tx_2, tx_3, tx_4, tx_5, tx_6, tx_7, tx_8])\n",
    "\n",
    "#del tx_1, tx_2, tx_3, tx_4, tx_5, tx_6, tx_7, tx_8"
   ]
  },
  {
   "cell_type": "markdown",
   "metadata": {},
   "source": [
    "    - Contas:"
   ]
  },
  {
   "cell_type": "code",
   "execution_count": null,
   "metadata": {},
   "outputs": [],
   "source": [
    "acc = pd.read_csv('../data/accounts/algo_accounts.csv')\n",
    "acc = pd.DataFrame(acc)"
   ]
  },
  {
   "cell_type": "markdown",
   "metadata": {},
   "source": [
    "--------------------------------------------------------------------------------------"
   ]
  },
  {
   "cell_type": "markdown",
   "metadata": {},
   "source": [
    "### Processamento de Transações:"
   ]
  },
  {
   "cell_type": "markdown",
   "metadata": {},
   "source": [
    "    - Convertendo timestamp em date:"
   ]
  },
  {
   "cell_type": "code",
   "execution_count": null,
   "metadata": {},
   "outputs": [],
   "source": [
    "date_list = []\n",
    "\n",
    "for i in tqdm(range(tx_1.shape[0])):\n",
    "    date_list.append(datetime.fromtimestamp(tx_1.at[i, 'round-time']).strftime('%d-%m-%y'))\n",
    "\n",
    "df_date = pd.DataFrame({'date': date_list})\n",
    "tx_1['date'] = df_date['date']\n",
    "\n",
    "tx_1.to_csv('../data/transactions/tx_with_date.csv', index=False)"
   ]
  },
  {
   "cell_type": "markdown",
   "metadata": {},
   "source": [
    "    - Extraindo destinatarios das transações:"
   ]
  },
  {
   "cell_type": "code",
   "execution_count": null,
   "metadata": {},
   "outputs": [],
   "source": [
    "receiver_list = []\n",
    "\n",
    "for i in tqdm(range(tx_1.shape[0])):\n",
    "    if tx_1.at[i, 'tx-type'] == 'pay':\n",
    "        reciever_aux = literal_eval(tx_1.at[i, 'payment-transaction'])\n",
    "        receiver_list.append(reciever_aux['receiver'])\n",
    "\n",
    "    if tx_1.at[i, 'tx-type'] == 'keyreg':\n",
    "        receiver_list.append('')\n",
    "\n",
    "    if tx_1.at[i, 'tx-type'] == 'acfg':\n",
    "        receiver_list.append('')\n",
    "\n",
    "    if tx_1.at[i, 'tx-type'] == 'axfer':\n",
    "        reciever_aux = literal_eval(tx_1.at[i, 'asset-transfer-transaction'])\n",
    "        receiver_list.append(reciever_aux['receiver'])\n",
    "\n",
    "    if tx_1.at[i, 'tx-type'] == 'afrz':\n",
    "        receiver_list.append('')\n",
    "\n",
    "df_receiver = pd.DataFrame({'receiver': receiver_list})\n",
    "tx_1['receiver'] = df_receiver['receiver']"
   ]
  },
  {
   "cell_type": "markdown",
   "metadata": {},
   "source": [
    "--------------------------------------------------------------------------------------"
   ]
  },
  {
   "cell_type": "markdown",
   "metadata": {},
   "source": [
    "### Processamento de Contas:"
   ]
  },
  {
   "cell_type": "markdown",
   "metadata": {},
   "source": [
    "    - Extração dos endereços de conta:"
   ]
  },
  {
   "cell_type": "code",
   "execution_count": 15,
   "metadata": {},
   "outputs": [],
   "source": [
    "sender_1 = pd.DataFrame({'address': tx_1['sender']})\n",
    "receiver_1 = pd.DataFrame({'address': tx_1['receiver']})\n",
    "\n",
    "address = pd.concat([sender_1, receiver_1])\n",
    "address = address.drop_duplicates()\n",
    "\n",
    "address.to_csv('../data/accounts/address.csv', index=False)"
   ]
  }
 ],
 "metadata": {
  "kernelspec": {
   "display_name": "Python 3.9.7 ('base')",
   "language": "python",
   "name": "python3"
  },
  "language_info": {
   "codemirror_mode": {
    "name": "ipython",
    "version": 3
   },
   "file_extension": ".py",
   "mimetype": "text/x-python",
   "name": "python",
   "nbconvert_exporter": "python",
   "pygments_lexer": "ipython3",
   "version": "3.9.7"
  },
  "orig_nbformat": 4,
  "vscode": {
   "interpreter": {
    "hash": "4d9defa72c2715dab9f7f172572cd30a1ab1a2083462d32ef96aadb7c6e0c73b"
   }
  }
 },
 "nbformat": 4,
 "nbformat_minor": 2
}
