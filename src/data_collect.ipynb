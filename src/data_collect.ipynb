{
 "cells": [
  {
   "cell_type": "code",
   "execution_count": 3,
   "metadata": {},
   "outputs": [],
   "source": [
    "import json\n",
    "from algosdk.v2client import indexer\n",
    "import requests\n",
    "\n",
    "from lib2to3.pytree import convert\n",
    "from matplotlib import pyplot as plt\n",
    "from pathlib import Path\n",
    "from ctypes import *\n",
    "import numpy as np\n",
    "import pandas as pd\n",
    "import seaborn as sns\n",
    "import time\n",
    "import struct\n",
    "import math\n",
    "from ast import literal_eval\n",
    "from tqdm import tqdm"
   ]
  },
  {
   "cell_type": "markdown",
   "metadata": {},
   "source": [
    "- id:              Hash da transação;\n",
    "- current-round:   Numero do bloco atual;\n",
    "- confirmed-round: Numero do bloco;\n",
    "- round-time:      Timestamp do bloco;\n",
    "- type:            Tipo da transação;\n",
    "- fee:             Taxas da transação -> fee = MAX(current_fee_per_byte * len(tnx_in_bytes), min_fee);"
   ]
  },
  {
   "cell_type": "code",
   "execution_count": 35,
   "metadata": {},
   "outputs": [],
   "source": [
    "file_obj_1 = Path('../data/algo_transactions_3.csv')\n",
    "\n",
    "if file_obj_1.is_file():\n",
    "    df = pd.read_csv('../data/algo_transactions_3.csv')\n",
    "else:\n",
    "    df = pd.DataFrame()\n",
    "\n",
    "\n",
    "file_obj_2 = Path('../data/atual_block.txt')\n",
    "\n",
    "if file_obj_2.is_file():\n",
    "    with open(\"../data/atual_block.txt\", \"r\") as arq:\n",
    "        number = arq.read()\n",
    "else:\n",
    "    number = 0"
   ]
  },
  {
   "cell_type": "code",
   "execution_count": null,
   "metadata": {},
   "outputs": [],
   "source": [
    "for i in tqdm(range(300)):\n",
    "    round = str(number)\n",
    "    url = 'https://algoindexer.algoexplorerapi.io/v2/transactions?min-round=' + round\n",
    "\n",
    "    block = requests.get(url)\n",
    "    block = block.json()\n",
    "    \n",
    "    tx = block['transactions']\n",
    "    tx = pd.DataFrame(tx)\n",
    "\n",
    "    if df.shape[0] > 0:\n",
    "        df = pd.concat([df, tx])\n",
    "        number = df['confirmed-round'].iloc[-1]\n",
    "    else:\n",
    "        df = tx\n",
    "        number = df['confirmed-round'].iloc[-1]\n",
    "\n",
    "with open('../data/atual_block.txt', 'w') as arquivo:\n",
    "        arquivo.write(str(number))\n",
    "\n",
    "print('Número de transações: ' + str(df.shape[0]))\n",
    "print('Bloco atual: ' + str(number))"
   ]
  },
  {
   "cell_type": "code",
   "execution_count": 40,
   "metadata": {},
   "outputs": [],
   "source": [
    "df.to_csv('../data/algo_transactions_3.csv', index=False)"
   ]
  }
 ],
 "metadata": {
  "kernelspec": {
   "display_name": "Python 3.9.7 64-bit",
   "language": "python",
   "name": "python3"
  },
  "language_info": {
   "codemirror_mode": {
    "name": "ipython",
    "version": 3
   },
   "file_extension": ".py",
   "mimetype": "text/x-python",
   "name": "python",
   "nbconvert_exporter": "python",
   "pygments_lexer": "ipython3",
   "version": "3.9.7"
  },
  "orig_nbformat": 4,
  "vscode": {
   "interpreter": {
    "hash": "a9960baf88259386db57c734c8604c8e4ab789688672644b3cf73fda24b112c6"
   }
  }
 },
 "nbformat": 4,
 "nbformat_minor": 2
}
