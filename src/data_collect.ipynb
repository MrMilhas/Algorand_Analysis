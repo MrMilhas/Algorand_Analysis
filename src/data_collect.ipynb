{
 "cells": [
  {
   "cell_type": "markdown",
   "metadata": {},
   "source": [
    "# Coleta de Dados da Rede Algorand"
   ]
  },
  {
   "cell_type": "markdown",
   "metadata": {},
   "source": [
    "    - Importando bibliotecas:"
   ]
  },
  {
   "cell_type": "code",
   "execution_count": 2,
   "metadata": {},
   "outputs": [],
   "source": [
    "from matplotlib import pyplot as plt\n",
    "from lib2to3.pytree import convert\n",
    "from ast import literal_eval\n",
    "from pathlib import Path\n",
    "from tqdm import tqdm\n",
    "import seaborn as sns\n",
    "from ctypes import *\n",
    "import pandas as pd\n",
    "import numpy as np\n",
    "import requests\n",
    "import struct\n",
    "import json\n",
    "import time\n",
    "import math"
   ]
  },
  {
   "cell_type": "markdown",
   "metadata": {},
   "source": [
    "--------------------------------------------------------------------------------------"
   ]
  },
  {
   "cell_type": "markdown",
   "metadata": {},
   "source": [
    "### Coleta de Transações:"
   ]
  },
  {
   "cell_type": "markdown",
   "metadata": {},
   "source": [
    "    - Classificação dos atributos:\n",
    "\n",
    "\n",
    "- id:              Hash da transação;\n",
    "- current-round:   Numero do bloco atual;\n",
    "- confirmed-round: Numero do bloco;\n",
    "- round-time:      Timestamp do bloco;\n",
    "- type:            Tipo da transação;\n",
    "- fee:             Taxas da transação -> fee = MAX(current_fee_per_byte * len(tnx_in_bytes), min_fee);"
   ]
  },
  {
   "cell_type": "code",
   "execution_count": 10,
   "metadata": {},
   "outputs": [],
   "source": [
    "#? Inicializando objetos path;\n",
    "file_obj_1 = Path('../data/transactions/algo_transactions_8.csv')\n",
    "file_obj_2 = Path('../data/transactions/atual_block.txt')\n",
    "\n",
    "#? Inicialização do dataframe;\n",
    "if file_obj_1.is_file():\n",
    "    df = pd.read_csv('../data/transactions/algo_transactions_8.csv')\n",
    "else:\n",
    "    df = pd.DataFrame()\n",
    "\n",
    "#? Inicialização do número do último bloco coletado;\n",
    "if file_obj_2.is_file():\n",
    "    with open(\"../data/transactions/atual_block.txt\", \"r\") as arq:\n",
    "        number = arq.read()\n",
    "else:\n",
    "    number = 0"
   ]
  },
  {
   "cell_type": "code",
   "execution_count": null,
   "metadata": {},
   "outputs": [],
   "source": [
    "for i in tqdm(range(300)):\n",
    "    round = str(number)\n",
    "    url = 'https://algoindexer.algoexplorerapi.io/v2/transactions?limit=8000&min-round=' + round\n",
    "\n",
    "    block = requests.get(url)\n",
    "    block = block.json()\n",
    "    \n",
    "    tx = block['transactions']\n",
    "    tx = pd.DataFrame(tx)\n",
    "\n",
    "    if df.shape[0] > 0:\n",
    "        df = pd.concat([df, tx])\n",
    "        number = df['confirmed-round'].iloc[-1]\n",
    "    else:\n",
    "        df = tx\n",
    "        number = df['confirmed-round'].iloc[-1]\n",
    "\n",
    "with open('../data/transactions/atual_block.txt', 'w') as arquivo:\n",
    "        arquivo.write(str(number))\n",
    "\n",
    "print('Número de transações: ' + str(df.shape[0]))\n",
    "print('Bloco atual: ' + str(number))"
   ]
  },
  {
   "cell_type": "code",
   "execution_count": 13,
   "metadata": {},
   "outputs": [],
   "source": [
    "#? Salvar dataframe com transações;\n",
    "df.to_csv('../data/transactions/algo_transactions_8.csv', index=False)"
   ]
  },
  {
   "cell_type": "markdown",
   "metadata": {},
   "source": [
    "--------------------------------------------------------------------------------------"
   ]
  },
  {
   "cell_type": "markdown",
   "metadata": {},
   "source": [
    "### Coleta de Contas:"
   ]
  },
  {
   "cell_type": "markdown",
   "metadata": {},
   "source": [
    "* Necessário realizar a extração de endereços no arquivo './process.ipynb';"
   ]
  },
  {
   "cell_type": "code",
   "execution_count": 17,
   "metadata": {},
   "outputs": [],
   "source": [
    "address = pd.read_csv('../data/accounts/address.csv')\n",
    "address = pd.DataFrame(address)\n",
    "\n",
    "address_list = []\n",
    "amount_list = []\n",
    "amount_without_pending_rewards_list = []\n",
    "created_at_round_list = []\n",
    "deleted_list = []       \n",
    "pending_rewards_list = []\n",
    "reward_base_list = []                                        \n",
    "rewards_list = []                                                                \n",
    "round_list = []                                                                   \n",
    "sig_type_list = []                                                               \n",
    "status_list = []                                                               \n",
    "total_apps_opted_in_list = []                                                        \n",
    "total_assets_opted_in_list = []                                                        \n",
    "total_created_apps_list = []                                                           \n",
    "total_created_assets_list = []                                                        "
   ]
  },
  {
   "cell_type": "code",
   "execution_count": null,
   "metadata": {},
   "outputs": [],
   "source": [
    "import csv\n",
    "\n",
    "\n",
    "for i in tqdm(range(address.shape[0])):\n",
    "    url = 'https://algoindexer.algoexplorerapi.io/v2/accounts/' + str(address.at[i, 'address'])\n",
    "\n",
    "    acc = requests.get(url)\n",
    "    acc = acc.json()\n",
    "    acc = pd.DataFrame(acc)\n",
    "    acc = acc['account']\n",
    "\n",
    "    address_list.append(acc['address'])\n",
    "    amount_list.append(acc['amount'])\n",
    "    amount_without_pending_rewards_list.append(acc['amount-without-pending-rewards'])\n",
    "    created_at_round_list.append(acc['created-at-round'])\n",
    "    deleted_list.append(acc['deleted'])\n",
    "    pending_rewards_list.append(acc['pending-rewards'])\n",
    "    reward_base_list.append(acc['reward-base'])             \n",
    "    rewards_list.append(acc['rewards'])                                     \n",
    "    round_list.append(acc['round'])                                          \n",
    "    sig_type_list.append(acc['sig-type'])                                           \n",
    "    status_list.append(acc['status'])                                      \n",
    "    total_apps_opted_in_list.append(acc['total-apps-opted-in'])                                              \n",
    "    total_assets_opted_in_list.append(acc['total-assets-opted-in'])                                   \n",
    "    total_created_apps_list.append(acc['total-created-apps'])                                 \n",
    "    total_created_assets_list.append(acc['total-created-assets'])\n",
    "\n",
    "accounts = pd.DataFrame({'address': address_list, 'amount': amount_list, 'amount-without-pending-rewards': amount_without_pending_rewards_list,\n",
    "'created-at-round': created_at_round_list, 'deleted': deleted_list, 'pending-rewards': pending_rewards_list, 'reward-base': reward_base_list,\n",
    "'rewards': rewards_list, 'round': round_list, 'sig-type': sig_type_list, 'status': status_list, 'total-apps-opted-in': total_apps_opted_in_list,\n",
    "'total-assets-opted-in': total_assets_opted_in_list, 'total-created-apps': total_created_apps_list, 'total-created-assets': total_created_assets_list})\n",
    "\n",
    "accounts.to_csv('../data/accounts/algo_accounts.csv', index=False)"
   ]
  },
  {
   "cell_type": "code",
   "execution_count": 23,
   "metadata": {},
   "outputs": [
    {
     "name": "stdout",
     "output_type": "stream",
     "text": [
      "<class 'requests.models.Response'>\n",
      "{'account': {'address': '3P3CHL4M5JTDJKEL3ARLUZRXY23BWWPX6SZDC2NIBALL3SKE7JBIFOVOAY', 'amount': 1103323927, 'amount-without-pending-rewards': 1058180125, 'created-at-round': 68203, 'deleted': False, 'pending-rewards': 45143802, 'reward-base': 175619, 'rewards': 203564678, 'round': 23031400, 'sig-type': 'sig', 'status': 'Offline', 'total-apps-opted-in': 0, 'total-assets-opted-in': 0, 'total-created-apps': 0, 'total-created-assets': 0}, 'current-round': 23031400}\n"
     ]
    }
   ],
   "source": [
    "\n",
    "\n",
    "url = 'https://algoindexer.algoexplorerapi.io/v2/accounts/3P3CHL4M5JTDJKEL3ARLUZRXY23BWWPX6SZDC2NIBALL3SKE7JBIFOVOAY'\n",
    "\n",
    "acc = requests.get(url)\n",
    "print(type(acc))\n",
    "acc = acc.json()\n",
    "#acc = pd.DataFrame(acc)\n",
    "#acc = acc['account']\n",
    "\n",
    "print(acc)"
   ]
  }
 ],
 "metadata": {
  "kernelspec": {
   "display_name": "Python 3.9.7 ('base')",
   "language": "python",
   "name": "python3"
  },
  "language_info": {
   "codemirror_mode": {
    "name": "ipython",
    "version": 3
   },
   "file_extension": ".py",
   "mimetype": "text/x-python",
   "name": "python",
   "nbconvert_exporter": "python",
   "pygments_lexer": "ipython3",
   "version": "3.9.7"
  },
  "orig_nbformat": 4,
  "vscode": {
   "interpreter": {
    "hash": "4d9defa72c2715dab9f7f172572cd30a1ab1a2083462d32ef96aadb7c6e0c73b"
   }
  }
 },
 "nbformat": 4,
 "nbformat_minor": 2
}
