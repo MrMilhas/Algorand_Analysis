{
 "cells": [
  {
   "cell_type": "markdown",
   "metadata": {},
   "source": [
    "# Coleta de Dados da Rede Algorand"
   ]
  },
  {
   "cell_type": "markdown",
   "metadata": {},
   "source": [
    "    - Importando bibliotecas:"
   ]
  },
  {
   "cell_type": "code",
   "execution_count": 3,
   "metadata": {},
   "outputs": [],
   "source": [
    "from matplotlib import pyplot as plt\n",
    "from lib2to3.pytree import convert\n",
    "from ast import literal_eval\n",
    "from pathlib import Path\n",
    "from tqdm import tqdm\n",
    "import seaborn as sns\n",
    "from ctypes import *\n",
    "import pandas as pd\n",
    "import numpy as np\n",
    "import requests\n",
    "import struct\n",
    "import json\n",
    "import time\n",
    "import math"
   ]
  },
  {
   "cell_type": "markdown",
   "metadata": {},
   "source": [
    "--------------------------------------------------------------------------------------"
   ]
  },
  {
   "cell_type": "markdown",
   "metadata": {},
   "source": [
    "### Coleta de Transações:"
   ]
  },
  {
   "cell_type": "markdown",
   "metadata": {},
   "source": [
    "    - Classificação dos atributos:\n",
    "\n",
    "\n",
    "- id:              Hash da transação;\n",
    "- current-round:   Numero do bloco atual;\n",
    "- confirmed-round: Numero do bloco;\n",
    "- round-time:      Timestamp do bloco;\n",
    "- type:            Tipo da transação;\n",
    "- fee:             Taxas da transação -> fee = MAX(current_fee_per_byte * len(tnx_in_bytes), min_fee);"
   ]
  },
  {
   "cell_type": "code",
   "execution_count": 10,
   "metadata": {},
   "outputs": [],
   "source": [
    "#? Inicializando objetos path;\n",
    "file_obj_1 = Path('../data/transactions/algo_transactions_8.csv')\n",
    "file_obj_2 = Path('../data/transactions/atual_block.txt')\n",
    "\n",
    "#? Inicialização do dataframe;\n",
    "if file_obj_1.is_file():\n",
    "    df = pd.read_csv('../data/transactions/algo_transactions_8.csv')\n",
    "else:\n",
    "    df = pd.DataFrame()\n",
    "\n",
    "#? Inicialização do número do último bloco coletado;\n",
    "if file_obj_2.is_file():\n",
    "    with open(\"../data/transactions/atual_block.txt\", \"r\") as arq:\n",
    "        number = arq.read()\n",
    "else:\n",
    "    number = 0"
   ]
  },
  {
   "cell_type": "code",
   "execution_count": null,
   "metadata": {},
   "outputs": [],
   "source": [
    "for i in tqdm(range(300)):\n",
    "    round = str(number)\n",
    "    url = 'https://algoindexer.algoexplorerapi.io/v2/transactions?limit=8000&min-round=' + round\n",
    "\n",
    "    block = requests.get(url)\n",
    "    block = block.json()\n",
    "    \n",
    "    tx = block['transactions']\n",
    "    tx = pd.DataFrame(tx)\n",
    "\n",
    "    if df.shape[0] > 0:\n",
    "        df = pd.concat([df, tx])\n",
    "        number = df['confirmed-round'].iloc[-1]\n",
    "    else:\n",
    "        df = tx\n",
    "        number = df['confirmed-round'].iloc[-1]\n",
    "\n",
    "with open('../data/transactions/atual_block.txt', 'w') as arquivo:\n",
    "        arquivo.write(str(number))\n",
    "\n",
    "print('Número de transações: ' + str(df.shape[0]))\n",
    "print('Bloco atual: ' + str(number))"
   ]
  },
  {
   "cell_type": "code",
   "execution_count": 13,
   "metadata": {},
   "outputs": [],
   "source": [
    "#? Salvar dataframe com transações;\n",
    "df.to_csv('../data/transactions/algo_transactions_8.csv', index=False)"
   ]
  },
  {
   "cell_type": "markdown",
   "metadata": {},
   "source": [
    "--------------------------------------------------------------------------------------"
   ]
  },
  {
   "cell_type": "markdown",
   "metadata": {},
   "source": [
    "### Coleta de Contas:"
   ]
  }
 ],
 "metadata": {
  "kernelspec": {
   "display_name": "Python 3.9.7 ('base')",
   "language": "python",
   "name": "python3"
  },
  "language_info": {
   "codemirror_mode": {
    "name": "ipython",
    "version": 3
   },
   "file_extension": ".py",
   "mimetype": "text/x-python",
   "name": "python",
   "nbconvert_exporter": "python",
   "pygments_lexer": "ipython3",
   "version": "3.9.7"
  },
  "orig_nbformat": 4,
  "vscode": {
   "interpreter": {
    "hash": "4d9defa72c2715dab9f7f172572cd30a1ab1a2083462d32ef96aadb7c6e0c73b"
   }
  }
 },
 "nbformat": 4,
 "nbformat_minor": 2
}
