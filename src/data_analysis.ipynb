{
 "cells": [
  {
   "cell_type": "markdown",
   "metadata": {},
   "source": [
    "# Análises da rede Algorand de Criptoativos"
   ]
  },
  {
   "cell_type": "markdown",
   "metadata": {},
   "source": [
    "* Necessário realizar o processamento dos datsets no arquivo './data_process.ipynb'"
   ]
  },
  {
   "cell_type": "markdown",
   "metadata": {},
   "source": [
    "### Importação das Bibliotecas:"
   ]
  },
  {
   "cell_type": "code",
   "execution_count": 1,
   "metadata": {},
   "outputs": [],
   "source": [
    "import pandas as pd\n",
    "import matplotlib.pyplot as plt\n",
    "import numpy as np\n",
    "import seaborn as sns\n",
    "from collections import OrderedDict\n",
    "from tqdm import tqdm"
   ]
  },
  {
   "cell_type": "markdown",
   "metadata": {},
   "source": [
    "----------------------------------------------------"
   ]
  },
  {
   "cell_type": "markdown",
   "metadata": {},
   "source": [
    "### Importação dos Datasets:"
   ]
  },
  {
   "cell_type": "markdown",
   "metadata": {},
   "source": [
    "    - Transações:"
   ]
  },
  {
   "cell_type": "code",
   "execution_count": null,
   "metadata": {},
   "outputs": [],
   "source": [
    "algo_tx = pd.read_csv('../data/transactions/tx_with_date.csv')\n",
    "algo_tx = pd.DataFrame(algo_tx)"
   ]
  },
  {
   "cell_type": "markdown",
   "metadata": {},
   "source": [
    "    - Contas:"
   ]
  },
  {
   "cell_type": "code",
   "execution_count": 4,
   "metadata": {},
   "outputs": [],
   "source": [
    "algo_acc = pd.read_csv('../data/accounts/algo_accounts.csv')\n",
    "algo_acc = pd.DataFrame(algo_acc)"
   ]
  },
  {
   "cell_type": "markdown",
   "metadata": {},
   "source": [
    "----------------------------------------------------"
   ]
  },
  {
   "cell_type": "markdown",
   "metadata": {},
   "source": [
    "### Análise de Transações:"
   ]
  },
  {
   "cell_type": "markdown",
   "metadata": {},
   "source": [
    "    - Transações Diárias:"
   ]
  },
  {
   "cell_type": "code",
   "execution_count": null,
   "metadata": {},
   "outputs": [],
   "source": [
    "tx_count = algo_tx.groupby(['date']).size().reset_index(name = 'count')\n",
    "\n",
    "plt.plot(tx_count['date'], tx_count['count'])\n",
    "plt.xlabel('Date (UTC)')\n",
    "plt.ylabel('Number of Transactions')\n",
    "plt.legend()\n",
    "plt.gcf().savefig('../data/graphs/daily_txs.pdf')"
   ]
  },
  {
   "cell_type": "markdown",
   "metadata": {},
   "source": [
    "    - Blocos Diários:"
   ]
  },
  {
   "cell_type": "code",
   "execution_count": null,
   "metadata": {},
   "outputs": [],
   "source": [
    "blocks = algo_tx.drop_duplicates(subset=['confirmed-round'])\n",
    "block_count = blocks.groupby(['date']).size().reset_index(name = 'count')\n",
    "\n",
    "plt.plot(block_count['date'], block_count['count'])\n",
    "plt.xlabel('Date (UTC)')\n",
    "plt.ylabel('Number of Blocks')\n",
    "plt.legend()\n",
    "plt.gcf().savefig('../data/graphs/daily_blocks.pdf')"
   ]
  },
  {
   "cell_type": "markdown",
   "metadata": {},
   "source": [
    "    - Transações por Bloco:"
   ]
  },
  {
   "cell_type": "code",
   "execution_count": null,
   "metadata": {},
   "outputs": [],
   "source": [
    "btx_count = algo_tx.groupby(['confirmed-round']).size().reset_index(name = 'count')\n",
    "\n",
    "plt.plot(btx_count['confirmed-round'], btx_count['count'])\n",
    "plt.xlabel('Block Number')\n",
    "plt.ylabel('Number of Transactions')\n",
    "plt.legend()\n",
    "plt.gcf().savefig('../data/graphs/blocks_txs.pdf')"
   ]
  },
  {
   "cell_type": "markdown",
   "metadata": {},
   "source": [
    "    - Distribuição dos Tipos de Transação:"
   ]
  },
  {
   "cell_type": "code",
   "execution_count": null,
   "metadata": {},
   "outputs": [],
   "source": [
    "plt.figure(figsize =(11, 6))\n",
    "sns.set_style(\"whitegrid\")\n",
    "\n",
    "ax = sns.boxplot( x = \"tx-type\", y =\"fee\",data = algo_tx, hue = \"tx-type\",linewidth=1)\n",
    "plt.title(\"Dsitribuição de Taxas Por Tipo de Transação\", loc=\"center\", fontsize=11)\n",
    "plt.xlabel(\"Tipos de Transação\")\n",
    "plt.ylabel(\"Taxas\")"
   ]
  },
  {
   "cell_type": "markdown",
   "metadata": {},
   "source": [
    "----------------------------------------------------"
   ]
  },
  {
   "cell_type": "markdown",
   "metadata": {},
   "source": [
    "### Análise de Contas:"
   ]
  },
  {
   "cell_type": "markdown",
   "metadata": {},
   "source": [
    "    - Endereços Diários:"
   ]
  },
  {
   "cell_type": "code",
   "execution_count": null,
   "metadata": {},
   "outputs": [],
   "source": [
    "accounts = algo_tx.drop_duplicates(subset=['sender'])\n",
    "acc_count = accounts.groupby(['date']).size().reset_index(name = 'count')\n",
    "\n",
    "plt.plot(acc_count['date'], acc_count['count'])\n",
    "plt.xlabel('Date (UTC)')\n",
    "plt.ylabel('Number of Accounts')\n",
    "plt.legend()\n",
    "plt.gcf().savefig('../data/graphs/daily_accounts.pdf')"
   ]
  },
  {
   "cell_type": "markdown",
   "metadata": {},
   "source": [
    "    - Distribuição de MicroAlgos:"
   ]
  },
  {
   "cell_type": "code",
   "execution_count": null,
   "metadata": {},
   "outputs": [],
   "source": [
    "fig, axs = plt.subplots(nrows = 2, sharex = True)\n",
    "\n",
    "sns.boxplot(data = algo_acc, x = 'amount', showfliers = False, ax = axs[0])\n",
    "axs[0].set_title('Amount')\n",
    "\n",
    "sns.boxplot(data = algo_acc, x = 'amount-without-pending-rewards', showfliers = False, ax = axs[1])\n",
    "axs[1].set_title('Amount Without pending Rewards')\n",
    "\n",
    "plt.tight_layout()\n",
    "plt.savefig('../data/graphs/acc_amount_distribution.pdf')"
   ]
  },
  {
   "cell_type": "markdown",
   "metadata": {},
   "source": [
    "    - Distribuição de Rewards:"
   ]
  },
  {
   "cell_type": "code",
   "execution_count": null,
   "metadata": {},
   "outputs": [],
   "source": [
    "fig, axs = plt.subplots(nrows = 2, sharex = True)\n",
    "\n",
    "sns.boxplot(data = algo_acc, x = 'rewards', showfliers = False, ax = axs[0])\n",
    "axs[0].set_title('Rewards')\n",
    "\n",
    "sns.boxplot(data = algo_acc, x = 'pending-rewards', showfliers = False, ax = axs[1])\n",
    "axs[1].set_title('Pending Rewards')\n",
    "\n",
    "plt.tight_layout()\n",
    "plt.savefig('../data/graphs/acc_rewards_distribution.pdf')"
   ]
  },
  {
   "cell_type": "markdown",
   "metadata": {},
   "source": [
    "    - Created Assets vs Created Apps:"
   ]
  },
  {
   "cell_type": "code",
   "execution_count": null,
   "metadata": {},
   "outputs": [],
   "source": [
    "fig, axs = plt.subplots(nrows = 2, sharex = True)\n",
    "\n",
    "sns.boxplot(data = algo_acc, x = 'total-created-apps', showfliers = False, ax = axs[0])\n",
    "axs[0].set_title('Total Created Apps')\n",
    "\n",
    "sns.boxplot(data = algo_acc, x = 'total-created-assets', showfliers = False, ax = axs[1])\n",
    "axs[1].set_title('Total Created Assets')\n",
    "\n",
    "plt.tight_layout()\n",
    "plt.savefig('../data/graphs/acc_apps_vs_assets_distribution.pdf')"
   ]
  },
  {
   "cell_type": "markdown",
   "metadata": {},
   "source": [
    "    - Cálculo de Degree:"
   ]
  },
  {
   "cell_type": "code",
   "execution_count": null,
   "metadata": {},
   "outputs": [],
   "source": []
  },
  {
   "cell_type": "markdown",
   "metadata": {},
   "source": [
    "----------------------------------------------------"
   ]
  }
 ],
 "metadata": {
  "kernelspec": {
   "display_name": "Python 3.9.7 ('base')",
   "language": "python",
   "name": "python3"
  },
  "language_info": {
   "codemirror_mode": {
    "name": "ipython",
    "version": 3
   },
   "file_extension": ".py",
   "mimetype": "text/x-python",
   "name": "python",
   "nbconvert_exporter": "python",
   "pygments_lexer": "ipython3",
   "version": "3.9.7"
  },
  "orig_nbformat": 4,
  "vscode": {
   "interpreter": {
    "hash": "4d9defa72c2715dab9f7f172572cd30a1ab1a2083462d32ef96aadb7c6e0c73b"
   }
  }
 },
 "nbformat": 4,
 "nbformat_minor": 2
}
